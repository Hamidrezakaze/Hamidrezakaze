{
  "nbformat": 4,
  "nbformat_minor": 0,
  "metadata": {
    "colab": {
      "provenance": [],
      "toc_visible": true,
      "include_colab_link": true
    },
    "kernelspec": {
      "name": "python3",
      "display_name": "Python 3"
    },
    "language_info": {
      "name": "python"
    }
  },
  "cells": [
    {
      "cell_type": "markdown",
      "metadata": {
        "id": "view-in-github",
        "colab_type": "text"
      },
      "source": [
        "<a href=\"https://colab.research.google.com/github/Hamidrezakaze/Hamidrezakaze/blob/main/Assignment_2.ipynb\" target=\"_parent\"><img src=\"https://colab.research.google.com/assets/colab-badge.svg\" alt=\"Open In Colab\"/></a>"
      ]
    },
    {
      "cell_type": "markdown",
      "source": [
        "For your second assignment, you should use a loop to iterate through the tuple `numbers`. For each of the numbers, you should perform up to 3 operations:\n",
        "\n",
        "1. If it exists in the `add_one` set, add one to the number.\n",
        "1. If it exists in the `double` set, double the number.\n",
        "1. If it exists in the `negate` set, negate the number (_i.e., if it's -17 make it 17, and if it's 11 make it -11_).\n",
        "\n",
        "After these operations are performed, append the number to `output_list`. When the loop is finished, print `output_list`.\n",
        "\n",
        "_hint: your resulting list should be [-25, 16, 21, 14, 6, 0, 23, -2, 24, 2, -18, 24, 2, 14, -22, -4, 22]_"
      ],
      "metadata": {
        "id": "lOWgV79SvTf1"
      }
    },
    {
      "cell_type": "code",
      "execution_count": 1,
      "metadata": {
        "id": "0WT91pfsvS68",
        "colab": {
          "base_uri": "https://localhost:8080/"
        },
        "outputId": "1eb4b647-7700-4cf8-bd9e-558487b582b6"
      },
      "outputs": [
        {
          "output_type": "stream",
          "name": "stdout",
          "text": [
            "[-25, 16, 21, 14, 6, 0, 23, -2, 24, 2, -18, 24, 2, 14, -22, -4, 22]\n"
          ]
        }
      ],
      "source": [
        "numbers = (-25, -16, 21, 14, 6, -1, 23, -2, -24, 2, -18, 24, 1, 7, -22, -5, 22)\n",
        "\n",
        "add_one = set([-1, -12, 10, -5, 25])\n",
        "double = set([1, 12, 0, 7, 17])\n",
        "negate = set([-24, -16, -3, 12, 15])\n",
        "\n",
        "output_list = []\n",
        "\n",
        "for num in numbers:\n",
        "    if num in add_one:\n",
        "        num +=1\n",
        "    elif num in double:\n",
        "        num = num*2\n",
        "    elif num in negate:\n",
        "        num = -num\n",
        "    output_list.append(num)\n",
        "\n",
        "print(output_list)"
      ]
    }
  ]
}